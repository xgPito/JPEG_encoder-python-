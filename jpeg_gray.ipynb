{
 "cells": [
  {
   "attachments": {},
   "cell_type": "markdown",
   "metadata": {},
   "source": [
    "#### 导入必要的库"
   ]
  },
  {
   "cell_type": "code",
   "execution_count": 15,
   "metadata": {},
   "outputs": [],
   "source": [
    "import cv2\n",
    "import numpy as np\n",
    "from bitstream import BitStream\n",
    "import huffmanEncode"
   ]
  },
  {
   "attachments": {},
   "cell_type": "markdown",
   "metadata": {},
   "source": [
    "#### Z字形扫描、亮度量化表，色度量化表(未使用)"
   ]
  },
  {
   "cell_type": "code",
   "execution_count": 16,
   "metadata": {},
   "outputs": [
    {
     "data": {
      "text/plain": [
       "'\\nstd_chrominance_quant_tbl = np.array(\\n[ 17,  18,  24,  47,  99,  99,  99,  99,\\n  18,  21,  26,  66,  99,  99,  99,  99,\\n  24,  26,  56,  99,  99,  99,  99,  99,\\n  47,  66,  99,  99,  99,  99,  99,  99,\\n  99,  99,  99,  99,  99,  99,  99,  99,\\n  99,  99,  99,  99,  99,  99,  99,  99,\\n  99,  99,  99,  99,  99,  99,  99,  99,\\n  99,  99,  99,  99,  99,  99,  99,  99],dtype=int)\\n'"
      ]
     },
     "execution_count": 16,
     "metadata": {},
     "output_type": "execute_result"
    }
   ],
   "source": [
    "zigzagOrder = np.array(\n",
    "[  0,  1,  8, 16,  9,  2,  3, 10,\n",
    "  17, 24, 32, 25, 18, 11,  4,  5,\n",
    "  12, 19, 26, 33, 40, 48, 41, 34,\n",
    "  27, 20, 13,  6,  7, 14, 21, 28,\n",
    "  35, 42, 49, 56, 57, 50, 43, 36,\n",
    "  29, 22, 15, 23, 30, 37, 44, 51,\n",
    "  58, 59, 52, 45, 38, 31, 39, 46,\n",
    "  53, 60, 61, 54, 47, 55, 62, 63])\n",
    "\n",
    "std_luminance_quant_tbl = np.array(\n",
    "[ 16,  11,  10,  16,  24,  40,  51,  61,\n",
    "  12,  12,  14,  19,  26,  58,  60,  55,\n",
    "  14,  13,  16,  24,  40,  57,  69,  56,\n",
    "  14,  17,  22,  29,  51,  87,  80,  62,\n",
    "  18,  22,  37,  56,  68, 109, 103,  77,\n",
    "  24,  35,  55,  64,  81, 104, 113,  92,\n",
    "  49,  64,  78,  87, 103, 121, 120, 101,\n",
    "  72,  92,  95,  98, 112, 100, 103,  99],dtype=int)\n",
    "\n",
    "# 灰度图像编码。色度量化表未使用\n",
    "'''\n",
    "std_chrominance_quant_tbl = np.array(\n",
    "[ 17,  18,  24,  47,  99,  99,  99,  99,\n",
    "  18,  21,  26,  66,  99,  99,  99,  99,\n",
    "  24,  26,  56,  99,  99,  99,  99,  99,\n",
    "  47,  66,  99,  99,  99,  99,  99,  99,\n",
    "  99,  99,  99,  99,  99,  99,  99,  99,\n",
    "  99,  99,  99,  99,  99,  99,  99,  99,\n",
    "  99,  99,  99,  99,  99,  99,  99,  99,\n",
    "  99,  99,  99,  99,  99,  99,  99,  99],dtype=int)\n",
    "'''"
   ]
  },
  {
   "attachments": {},
   "cell_type": "markdown",
   "metadata": {},
   "source": [
    "#### 导入图像名称，导出图像名称，质量因子"
   ]
  },
  {
   "cell_type": "code",
   "execution_count": 17,
   "metadata": {},
   "outputs": [],
   "source": [
    "inputImgname=\"lena_gray.bmp\"\n",
    "outputImgname=\"lena_85.jpeg\"\n",
    "quality=85"
   ]
  },
  {
   "attachments": {},
   "cell_type": "markdown",
   "metadata": {},
   "source": [
    "#### 根据输入的质量因子缩放量化表"
   ]
  },
  {
   "cell_type": "code",
   "execution_count": 18,
   "metadata": {},
   "outputs": [],
   "source": [
    "quality=np.clip(quality,1,100)  #将输入的质量因子规约到[1,100]\n",
    "if quality>=50:\n",
    "    quality=200-2*quality\n",
    "else:\n",
    "    quality=5000/quality\n",
    "luminance_quant_tbl=np.array(np.floor((quality*std_luminance_quant_tbl+50)/100))\n",
    "luminance_quant_tbl=np.where(luminance_quant_tbl<1,1,luminance_quant_tbl)\n",
    "luminance_quant_tbl=np.where(luminance_quant_tbl>255,255,luminance_quant_tbl)\n",
    "luminance_quant_tbl=luminance_quant_tbl.reshape([8,8]).astype(np.int32)\n",
    "# print(luminance_quant_tbl)"
   ]
  },
  {
   "cell_type": "code",
   "execution_count": 19,
   "metadata": {},
   "outputs": [],
   "source": [
    "srcImage=cv2.imread(inputImgname,0) # 0：读取的图像为灰度图\n",
    "srcWidth,srcHeight=srcImage.shape[:2]"
   ]
  },
  {
   "attachments": {},
   "cell_type": "markdown",
   "metadata": {},
   "source": [
    "#### 将原始图像的宽高扩展为8的整数倍，便于后续编码"
   ]
  },
  {
   "cell_type": "code",
   "execution_count": 20,
   "metadata": {},
   "outputs": [],
   "source": [
    "imgWidth,imgHeight=srcWidth,srcHeight\n",
    "if srcWidth%8!=0:\n",
    "    imgWeight=srcWidth//8*8+8\n",
    "if srcHeight%8!=0:\n",
    "    imgHeight=srcHeight//8*8+8\n",
    "padImage=np.zeros(shape=(imgWidth,imgHeight),dtype=np.uint8)\n",
    "padImage[:srcWidth,:srcHeight]=srcImage\n"
   ]
  },
  {
   "attachments": {},
   "cell_type": "markdown",
   "metadata": {},
   "source": [
    "#### 点位平移"
   ]
  },
  {
   "cell_type": "code",
   "execution_count": 21,
   "metadata": {},
   "outputs": [],
   "source": [
    "padImage=padImage.astype(np.int32)-127"
   ]
  },
  {
   "cell_type": "code",
   "execution_count": null,
   "metadata": {},
   "outputs": [],
   "source": [
    "before=0    #记录DC系数差分编码的前一个DC系数\n",
    "DCs=0       #记录当前DC系数值\n",
    "flag=0\n",
    "sosBitStream = BitStream()\n",
    "for i in range(imgWidth//8):\n",
    "    for j in range(imgHeight//8):\n",
    "        # 获取一个编码块\n",
    "        tmp=padImage[i*8:(i+1)*8,j*8:(j+1)*8].astype(np.float64)\n",
    "\n",
    "        # DCT变换\n",
    "        tmp=cv2.dct(tmp)\n",
    "\n",
    "        # 量化表量化后四舍五入\n",
    "        tmp=np.around(tmp/luminance_quant_tbl)\n",
    "\n",
    "        # Z字形扫描\n",
    "        tmp=tmp.reshape([64])\n",
    "        tmp=np.array([tmp[zigzagOrder[k]] for k in range(64)]).astype(np.int32)\n",
    "\n",
    "        if flag==0:\n",
    "            print(tmp)\n",
    "        flag+=1\n",
    "        # DC系数差分编码\n",
    "        DCs=tmp[0]-before\n",
    "        before=tmp[0]\n",
    "\n",
    "        # DC系数编码\n",
    "        sosBitStream.write(huffmanEncode.encodeDCToBoolList(DCs,1),bool)\n",
    "\n",
    "        # AC系数编码\n",
    "        huffmanEncode.encodeACBlock(sosBitStream,tmp[1:],1)"
   ]
  },
  {
   "attachments": {},
   "cell_type": "markdown",
   "metadata": {},
   "source": [
    "#### 开始封装图像格式"
   ]
  },
  {
   "cell_type": "code",
   "execution_count": null,
   "metadata": {},
   "outputs": [],
   "source": [
    "jpegFile = open(outputImgname, 'wb+')\n",
    "# SOI字段，图像数据开始--20B\n",
    "jpegFile.write(huffmanEncode.hexToBytes('FFD8FFE000104A46494600010100000100010000'))"
   ]
  },
  {
   "cell_type": "code",
   "execution_count": null,
   "metadata": {},
   "outputs": [],
   "source": [
    "# DQT字段，写入相应量化表\n",
    "# 写入亮度量化表--69B\n",
    "jpegFile.write(huffmanEncode.hexToBytes('FFDB004300'))\n",
    "luminance_quant_tbl = luminance_quant_tbl.reshape([64])\n",
    "jpegFile.write(bytes(luminance_quant_tbl.tolist()))\n",
    "\n",
    "# 写入色度量化表\n",
    "# jpegFile.write(huffmanEncode.hexToBytes('FFDB004301'))\n",
    "# chrominanceQuantTbl = chrominanceQuantTbl.reshape([64])\n",
    "# jpegFile.write(bytes(chrominanceQuantTbl.tolist()))\n"
   ]
  },
  {
   "cell_type": "code",
   "execution_count": 11,
   "metadata": {},
   "outputs": [
    {
     "data": {
      "text/plain": [
       "4"
      ]
     },
     "execution_count": 11,
     "metadata": {},
     "output_type": "execute_result"
    }
   ],
   "source": [
    "# SOF0字段，图像帧开始--13B\n",
    "jpegFile.write(huffmanEncode.hexToBytes('FFC0000B08'))\n",
    "hHex = hex(srcHeight)[2:].rjust(4,'0')\n",
    "wHex = hex(srcWidth)[2:].rjust(4,'0')\n",
    "jpegFile.write(huffmanEncode.hexToBytes(hHex))  # 写入高度和宽度\n",
    "jpegFile.write(huffmanEncode.hexToBytes(wHex))\n",
    "jpegFile.write(huffmanEncode.hexToBytes('01011100'))"
   ]
  },
  {
   "cell_type": "code",
   "execution_count": null,
   "metadata": {},
   "outputs": [],
   "source": [
    "# DHT字段，写入huffman表--420B\n",
    "jpegFile.write(huffmanEncode.hexToBytes(\"FFC401A2\"))\n",
    "jpegFile.write(huffmanEncode.hexToBytes('0000000701010101010000000000000000040503020601000708090A0B0100020203010101010100000000000000010002030405060708090A0B1000020103030204020607030402060273010203110400052112314151061361227181143291A10715B14223C152D1E1331662F0247282F12543345392A2B26373C235442793A3B33617546474C3D2E2082683090A181984944546A4B456D355281AF2E3F3C4D4E4F465758595A5B5C5D5E5F566768696A6B6C6D6E6F637475767778797A7B7C7D7E7F738485868788898A8B8C8D8E8F82939495969798999A9B9C9D9E9F92A3A4A5A6A7A8A9AAABACADAEAFA110002020102030505040506040803036D0100021103042112314105511361220671819132A1B1F014C1D1E1234215526272F1332434438216925325A263B2C20773D235E2448317549308090A18192636451A2764745537F2A3B3C32829D3E3F38494A4B4C4D4E4F465758595A5B5C5D5E5F5465666768696A6B6C6D6E6F6475767778797A7B7C7D7E7F738485868788898A8B8C8D8E8F839495969798999A9B9C9D9E9F92A3A4A5A6A7A8A9AAABACADAEAFA'))"
   ]
  },
  {
   "cell_type": "code",
   "execution_count": 13,
   "metadata": {},
   "outputs": [],
   "source": [
    "# 这个对jpeg的头解释的很详细了：https://blog.csdn.net/ymlbright/article/details/44179891\n",
    "# SOS字段，扫描数据开始\n",
    "jpegFile.write(huffmanEncode.hexToBytes('FFDA0008010100003F00'))\n",
    "\n",
    "# 写入编码数据，若不是8的整数倍，先进行填充\n",
    "sosLength = sosBitStream.__len__()\n",
    "filledNum = 8 - sosLength % 8\n",
    "if(filledNum!=0):\n",
    "    sosBitStream.write(np.ones([filledNum]).tolist(),bool)\n",
    "sosBytes = sosBitStream.read(bytes)\n",
    "for i in range(len(sosBytes)):\n",
    "    jpegFile.write(bytes([sosBytes[i]]))\n",
    "    if(sosBytes[i]==255):\n",
    "        jpegFile.write(bytes([0])) # FF to FF 00\n",
    "\n",
    "# EOI字段，写入文件结束符\n",
    "jpegFile.write(bytes([255,217])) # FF D9\n",
    "jpegFile.close()"
   ]
  }
 ],
 "metadata": {
  "kernelspec": {
   "display_name": "Python 3",
   "language": "python",
   "name": "python3"
  },
  "language_info": {
   "codemirror_mode": {
    "name": "ipython",
    "version": 3
   },
   "file_extension": ".py",
   "mimetype": "text/x-python",
   "name": "python",
   "nbconvert_exporter": "python",
   "pygments_lexer": "ipython3",
   "version": "3.8.7"
  },
  "orig_nbformat": 4
 },
 "nbformat": 4,
 "nbformat_minor": 2
}
